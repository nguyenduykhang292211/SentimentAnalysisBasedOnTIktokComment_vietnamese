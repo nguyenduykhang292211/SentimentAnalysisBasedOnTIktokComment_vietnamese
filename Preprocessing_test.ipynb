{
 "cells": [
  {
   "cell_type": "code",
   "execution_count": 26,
   "metadata": {},
   "outputs": [],
   "source": [
    "from pyvi import ViTokenizer, ViPosTagger\n",
    "from underthesea import word_tokenize, ner\n",
    "from nltk.tokenize import wordpunct_tokenize\n",
    "from nltk.stem import *\n",
    "from underthesea import sent_tokenize, text_normalize\n",
    "import pandas as pd"
   ]
  },
  {
   "cell_type": "code",
   "execution_count": 27,
   "metadata": {},
   "outputs": [],
   "source": [
    "data=pd.read_csv('Data/raw_data.csv')\n",
    "data=data[0:100]"
   ]
  },
  {
   "cell_type": "code",
   "execution_count": 28,
   "metadata": {},
   "outputs": [
    {
     "name": "stdout",
     "output_type": "stream",
     "text": [
      "@thuongkhanh06 🥺\n",
      "hội chợ mà giá đồ ăn rẻ hơn bên ngoài 😂😂😂 nghe mà cười trừ 😂😂😂\n",
      "@＼＼٩(๑`^´๑)۶//／／ ê\n",
      "@🍩🍩🍩 đi khum\n",
      "@maydlue ăn tới chớt😏\n",
      "@Orange🍊 bữa ko biết luôn\n",
      "@Trinh vô lẹ dẫn đi\n",
      "@nhungoc_2404 mai kìa\n",
      "@Lih_🏡 đi đi\n",
      "@thích ăn beefsteak điiiiii lẹeeeee\n"
     ]
    }
   ],
   "source": [
    "for i in data['comment'].head(10):\n",
    "    print(i)\n"
   ]
  },
  {
   "cell_type": "code",
   "execution_count": 29,
   "metadata": {},
   "outputs": [],
   "source": [
    "from nltk import word_tokenize as wt"
   ]
  },
  {
   "cell_type": "code",
   "execution_count": 30,
   "metadata": {},
   "outputs": [],
   "source": [
    "porter_stemmer = PorterStemmer()\n",
    "wordnet_lemmatizer = WordNetLemmatizer()\n",
    "def vietnamese_stemming(text):\n",
    "    words = wt(text)\n",
    "    words = [word for word in words if word.isalpha()]\n",
    "    return ' '.join([token for token in words])"
   ]
  },
  {
   "cell_type": "code",
   "execution_count": 31,
   "metadata": {},
   "outputs": [],
   "source": [
    "data['comment']=data['comment'].astype(str)\n",
    "def remove_at(comment):\n",
    "\n",
    "    comment=comment.split(' ')\n",
    "    for i in range(len(comment)):\n",
    "        if comment[i].startswith('@'):\n",
    "            comment[i]=''\n",
    "    \n",
    "    return ' '.join(comment)\n",
    "data['comment']=data['comment'].apply(remove_at)"
   ]
  },
  {
   "cell_type": "code",
   "execution_count": 32,
   "metadata": {},
   "outputs": [],
   "source": [
    "data['comment'] = data['comment'].apply(vietnamese_stemming)"
   ]
  },
  {
   "cell_type": "code",
   "execution_count": 33,
   "metadata": {},
   "outputs": [],
   "source": [
    "teencode_df = pd.read_csv('copus/teencode.txt', sep='\\t', header=None, names=['teencode', 'replacement'])\n",
    "teencode_dict = dict(zip(teencode_df['teencode'], teencode_df['replacement']))\n",
    "data['comment'] = data['comment'].apply(lambda x: ' '.join([teencode_dict.get(word, word) for word in x.split()]))\n",
    "data['comment'] = data['comment'].str.lower()"
   ]
  },
  {
   "cell_type": "code",
   "execution_count": 34,
   "metadata": {},
   "outputs": [],
   "source": [
    "import re\n",
    "def reduce_duplicate_characters(word):\n",
    "    # Sử dụng regex để giữ lại tối đa 2 ký tự liên tiếp\n",
    "    reduced_word = re.sub(r'(.)\\1+', r'\\1', word)\n",
    "    return reduced_word\n",
    "data['comment'] = data['comment'].apply(reduce_duplicate_characters)"
   ]
  },
  {
   "cell_type": "code",
   "execution_count": 35,
   "metadata": {},
   "outputs": [],
   "source": [
    "def token_(Text):\n",
    "    return word_tokenize(Text, format=\"text\")\n",
    "\n",
    "data['comment']=data['comment'].apply(token_)"
   ]
  },
  {
   "cell_type": "code",
   "execution_count": 36,
   "metadata": {},
   "outputs": [
    {
     "name": "stdout",
     "output_type": "stream",
     "text": [
      "\n",
      "hội_chợ mà giá đồ_ăn rẻ hơn bên ngoài nghe mà cười trừ\n",
      "ê\n",
      "đi không\n",
      "ăn tới\n",
      "bữa không biết luôn\n",
      "vô lẹ dẫn đi\n",
      "mai kìa\n",
      "đi_đi\n",
      "ăn befsteak đi lẹe\n"
     ]
    }
   ],
   "source": [
    "for i in data['comment'].head(10):\n",
    "    print(i)\n"
   ]
  },
  {
   "cell_type": "code",
   "execution_count": 37,
   "metadata": {},
   "outputs": [],
   "source": [
    "# data.to_csv('Cleaned.csv', index=False)"
   ]
  }
 ],
 "metadata": {
  "kernelspec": {
   "display_name": "Python 3",
   "language": "python",
   "name": "python3"
  },
  "language_info": {
   "codemirror_mode": {
    "name": "ipython",
    "version": 3
   },
   "file_extension": ".py",
   "mimetype": "text/x-python",
   "name": "python",
   "nbconvert_exporter": "python",
   "pygments_lexer": "ipython3",
   "version": "3.9.13"
  }
 },
 "nbformat": 4,
 "nbformat_minor": 2
}
