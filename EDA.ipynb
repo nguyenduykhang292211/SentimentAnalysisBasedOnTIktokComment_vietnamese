{
 "cells": [
  {
   "cell_type": "code",
   "execution_count": 8,
   "metadata": {},
   "outputs": [],
   "source": [
    "import pandas as pd\n",
    "from nltk.tokenize import word_tokenize"
   ]
  },
  {
   "cell_type": "code",
   "execution_count": 2,
   "metadata": {},
   "outputs": [
    {
     "name": "stderr",
     "output_type": "stream",
     "text": [
      "C:\\Users\\khang\\AppData\\Local\\Packages\\PythonSoftwareFoundation.Python.3.9_qbz5n2kfra8p0\\LocalCache\\local-packages\\Python39\\site-packages\\IPython\\core\\interactiveshell.py:3508: DtypeWarning: Columns (3) have mixed types.Specify dtype option on import or set low_memory=False.\n",
      "  exec(code_obj, self.user_global_ns, self.user_ns)\n"
     ]
    }
   ],
   "source": [
    "df=pd.read_csv('Data/raw_data.csv')"
   ]
  },
  {
   "cell_type": "code",
   "execution_count": 5,
   "metadata": {},
   "outputs": [],
   "source": [
    "df.drop(['Unnamed: 4'],axis=1,inplace=True)"
   ]
  },
  {
   "cell_type": "code",
   "execution_count": 9,
   "metadata": {},
   "outputs": [],
   "source": [
    "#tạo 1 cột mới lưu độ dài của các câu comment\n",
    "df['Length'] = df['comment'].apply(lambda x: len(word_tokenize(str(x))))\n"
   ]
  },
  {
   "cell_type": "code",
   "execution_count": 11,
   "metadata": {},
   "outputs": [
    {
     "data": {
      "text/html": [
       "<div>\n",
       "<style scoped>\n",
       "    .dataframe tbody tr th:only-of-type {\n",
       "        vertical-align: middle;\n",
       "    }\n",
       "\n",
       "    .dataframe tbody tr th {\n",
       "        vertical-align: top;\n",
       "    }\n",
       "\n",
       "    .dataframe thead th {\n",
       "        text-align: right;\n",
       "    }\n",
       "</style>\n",
       "<table border=\"1\" class=\"dataframe\">\n",
       "  <thead>\n",
       "    <tr style=\"text-align: right;\">\n",
       "      <th></th>\n",
       "      <th>id</th>\n",
       "      <th>user</th>\n",
       "      <th>comment</th>\n",
       "      <th>comment_at</th>\n",
       "      <th>Length</th>\n",
       "    </tr>\n",
       "  </thead>\n",
       "  <tbody>\n",
       "    <tr>\n",
       "      <th>0</th>\n",
       "      <td>1</td>\n",
       "      <td>_sherry2002_</td>\n",
       "      <td>@thuongkhanh06 🥺</td>\n",
       "      <td>1/10/2022</td>\n",
       "      <td>3</td>\n",
       "    </tr>\n",
       "    <tr>\n",
       "      <th>1</th>\n",
       "      <td>2</td>\n",
       "      <td>ti_hon_1991</td>\n",
       "      <td>hội chợ mà giá đồ ăn rẻ hơn bên ngoài 😂😂😂 nghe...</td>\n",
       "      <td>2/10/2022</td>\n",
       "      <td>16</td>\n",
       "    </tr>\n",
       "    <tr>\n",
       "      <th>2</th>\n",
       "      <td>3</td>\n",
       "      <td>moonschild.hh</td>\n",
       "      <td>@＼＼٩(๑`^´๑)۶//／／ ê</td>\n",
       "      <td>2/10/2022</td>\n",
       "      <td>9</td>\n",
       "    </tr>\n",
       "    <tr>\n",
       "      <th>3</th>\n",
       "      <td>4</td>\n",
       "      <td>zozo_nt</td>\n",
       "      <td>@🍩🍩🍩 đi khum</td>\n",
       "      <td>1/10/2022</td>\n",
       "      <td>4</td>\n",
       "    </tr>\n",
       "    <tr>\n",
       "      <th>4</th>\n",
       "      <td>5</td>\n",
       "      <td>oanhbuiicutivl</td>\n",
       "      <td>@maydlue ăn tới chớt😏</td>\n",
       "      <td>1/10/2022</td>\n",
       "      <td>5</td>\n",
       "    </tr>\n",
       "    <tr>\n",
       "      <th>5</th>\n",
       "      <td>6</td>\n",
       "      <td>duyentoptop</td>\n",
       "      <td>@Orange🍊 bữa ko biết luôn</td>\n",
       "      <td>5/10/2022</td>\n",
       "      <td>6</td>\n",
       "    </tr>\n",
       "    <tr>\n",
       "      <th>6</th>\n",
       "      <td>7</td>\n",
       "      <td>kieunhi2510</td>\n",
       "      <td>@Trinh vô lẹ dẫn đi</td>\n",
       "      <td>2/10/2022</td>\n",
       "      <td>6</td>\n",
       "    </tr>\n",
       "    <tr>\n",
       "      <th>7</th>\n",
       "      <td>8</td>\n",
       "      <td>hiann2.2</td>\n",
       "      <td>@nhungoc_2404 mai kìa</td>\n",
       "      <td>1/10/2022</td>\n",
       "      <td>4</td>\n",
       "    </tr>\n",
       "    <tr>\n",
       "      <th>8</th>\n",
       "      <td>9</td>\n",
       "      <td>alana_anhoa</td>\n",
       "      <td>@Lih_🏡 đi đi</td>\n",
       "      <td>2/10/2022</td>\n",
       "      <td>4</td>\n",
       "    </tr>\n",
       "    <tr>\n",
       "      <th>9</th>\n",
       "      <td>10</td>\n",
       "      <td>mocmoc0408</td>\n",
       "      <td>@thích ăn beefsteak điiiiii lẹeeeee</td>\n",
       "      <td>2/10/2022</td>\n",
       "      <td>6</td>\n",
       "    </tr>\n",
       "  </tbody>\n",
       "</table>\n",
       "</div>"
      ],
      "text/plain": [
       "   id            user                                            comment  \\\n",
       "0   1    _sherry2002_                                   @thuongkhanh06 🥺   \n",
       "1   2     ti_hon_1991  hội chợ mà giá đồ ăn rẻ hơn bên ngoài 😂😂😂 nghe...   \n",
       "2   3   moonschild.hh                                 @＼＼٩(๑`^´๑)۶//／／ ê   \n",
       "3   4         zozo_nt                                       @🍩🍩🍩 đi khum   \n",
       "4   5  oanhbuiicutivl                              @maydlue ăn tới chớt😏   \n",
       "5   6     duyentoptop                          @Orange🍊 bữa ko biết luôn   \n",
       "6   7     kieunhi2510                                @Trinh vô lẹ dẫn đi   \n",
       "7   8        hiann2.2                              @nhungoc_2404 mai kìa   \n",
       "8   9     alana_anhoa                                       @Lih_🏡 đi đi   \n",
       "9  10      mocmoc0408                @thích ăn beefsteak điiiiii lẹeeeee   \n",
       "\n",
       "  comment_at  Length  \n",
       "0  1/10/2022       3  \n",
       "1  2/10/2022      16  \n",
       "2  2/10/2022       9  \n",
       "3  1/10/2022       4  \n",
       "4  1/10/2022       5  \n",
       "5  5/10/2022       6  \n",
       "6  2/10/2022       6  \n",
       "7  1/10/2022       4  \n",
       "8  2/10/2022       4  \n",
       "9  2/10/2022       6  "
      ]
     },
     "execution_count": 11,
     "metadata": {},
     "output_type": "execute_result"
    }
   ],
   "source": [
    "df.head(10)"
   ]
  },
  {
   "cell_type": "code",
   "execution_count": 12,
   "metadata": {},
   "outputs": [
    {
     "data": {
      "text/plain": [
       "count    250549.000000\n",
       "mean          7.234880\n",
       "std           6.374685\n",
       "min           1.000000\n",
       "25%           3.000000\n",
       "50%           5.000000\n",
       "75%           9.000000\n",
       "max         168.000000\n",
       "Name: Length, dtype: float64"
      ]
     },
     "execution_count": 12,
     "metadata": {},
     "output_type": "execute_result"
    }
   ],
   "source": [
    "df['Length'].describe()"
   ]
  },
  {
   "cell_type": "code",
   "execution_count": 22,
   "metadata": {},
   "outputs": [
    {
     "data": {
      "text/plain": [
       "0    2\n",
       "dtype: int64"
      ]
     },
     "execution_count": 22,
     "metadata": {},
     "output_type": "execute_result"
    }
   ],
   "source": [
    "df['Length'].mode()"
   ]
  },
  {
   "cell_type": "code",
   "execution_count": 13,
   "metadata": {},
   "outputs": [],
   "source": [
    "import matplotlib.pyplot as plt\n",
    "import seaborn as sns"
   ]
  },
  {
   "cell_type": "code",
   "execution_count": 20,
   "metadata": {},
   "outputs": [
    {
     "data": {
      "image/png": "[encoded data removed]",
      "text/plain": [
       "<Figure size 720x432 with 1 Axes>"
      ]
     },
     "metadata": {
      "needs_background": "light"
     },
     "output_type": "display_data"
    }
   ],
   "source": [
    "plt.figure(figsize=(10, 6))\n",
    "plt.hist(df['Length'], bins=120, color='skyblue', edgecolor='black')\n",
    "plt.title('Distribution of Lenghth of Comments')\n",
    "plt.xlabel('Length of Comments')\n",
    "plt.ylabel('Number of Comments')\n",
    "plt.grid(True)\n",
    "plt.show()"
   ]
  }
 ],
 "metadata": {
  "kernelspec": {
   "display_name": "Python 3",
   "language": "python",
   "name": "python3"
  },
  "language_info": {
   "codemirror_mode": {
    "name": "ipython",
    "version": 3
   },
   "file_extension": ".py",
   "mimetype": "text/x-python",
   "name": "python",
   "nbconvert_exporter": "python",
   "pygments_lexer": "ipython3",
   "version": "3.9.13"
  }
 },
 "nbformat": 4,
 "nbformat_minor": 2
}
