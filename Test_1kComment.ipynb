{
 "cells": [
  {
   "cell_type": "code",
   "execution_count": 62,
   "metadata": {},
   "outputs": [],
   "source": [
    "import warnings\n",
    "warnings.filterwarnings('ignore')\n",
    "import torch\n",
    "from torch import nn\n",
    "import pandas as pd\n",
    "from transformers import AutoModel, AutoTokenizer\n",
    "import matplotlib.pyplot as plt\n",
    "import numpy as np\n",
    "from transformers import AutoTokenizer"
   ]
  },
  {
   "cell_type": "code",
   "execution_count": 63,
   "metadata": {},
   "outputs": [],
   "source": [
    "MODEL_NAME='vinai/phobert-base-v2'"
   ]
  },
  {
   "cell_type": "code",
   "execution_count": 64,
   "metadata": {},
   "outputs": [],
   "source": [
    "tokenizer = AutoTokenizer.from_pretrained(MODEL_NAME)\n",
    "MAX_LEN = 40"
   ]
  },
  {
   "cell_type": "code",
   "execution_count": 65,
   "metadata": {},
   "outputs": [],
   "source": [
    "class_names=['negative','neutral','positive']\n",
    "# Set GPU\n",
    "if torch.cuda.is_available():\n",
    "    device = \"cuda:0\"\n",
    "else:\n",
    "    device = \"cpu\"\n",
    "\n",
    "device = torch.device(device)"
   ]
  },
  {
   "cell_type": "code",
   "execution_count": 66,
   "metadata": {},
   "outputs": [],
   "source": [
    "class SentimentClassifier(nn.Module):\n",
    "    def __init__(self, n_classes):\n",
    "        super(SentimentClassifier, self).__init__()\n",
    "        self.phobert = AutoModel.from_pretrained(MODEL_NAME)\n",
    "        self.dropout = nn.Dropout(0.3)\n",
    "        self.linear = nn.Linear(self.phobert.config.hidden_size, n_classes)\n",
    "\n",
    "    def forward(self, input_ids, attention_mask):\n",
    "        outputs = self.phobert(input_ids=input_ids, attention_mask=attention_mask)\n",
    "        pooled_output = outputs.pooler_output\n",
    "        pooled_output = self.dropout(pooled_output)\n",
    "        logits = self.linear(pooled_output)\n",
    "        return logits"
   ]
  },
  {
   "cell_type": "code",
   "execution_count": 67,
   "metadata": {},
   "outputs": [
    {
     "name": "stderr",
     "output_type": "stream",
     "text": [
      "Some weights of RobertaModel were not initialized from the model checkpoint at vinai/phobert-base-v2 and are newly initialized: ['roberta.pooler.dense.bias', 'roberta.pooler.dense.weight']\n",
      "You should probably TRAIN this model on a down-stream task to be able to use it for predictions and inference.\n"
     ]
    },
    {
     "data": {
      "text/plain": [
       "SentimentClassifier(\n",
       "  (phobert): RobertaModel(\n",
       "    (embeddings): RobertaEmbeddings(\n",
       "      (word_embeddings): Embedding(64001, 768, padding_idx=1)\n",
       "      (position_embeddings): Embedding(258, 768, padding_idx=1)\n",
       "      (token_type_embeddings): Embedding(1, 768)\n",
       "      (LayerNorm): LayerNorm((768,), eps=1e-05, elementwise_affine=True)\n",
       "      (dropout): Dropout(p=0.1, inplace=False)\n",
       "    )\n",
       "    (encoder): RobertaEncoder(\n",
       "      (layer): ModuleList(\n",
       "        (0-11): 12 x RobertaLayer(\n",
       "          (attention): RobertaAttention(\n",
       "            (self): RobertaSelfAttention(\n",
       "              (query): Linear(in_features=768, out_features=768, bias=True)\n",
       "              (key): Linear(in_features=768, out_features=768, bias=True)\n",
       "              (value): Linear(in_features=768, out_features=768, bias=True)\n",
       "              (dropout): Dropout(p=0.1, inplace=False)\n",
       "            )\n",
       "            (output): RobertaSelfOutput(\n",
       "              (dense): Linear(in_features=768, out_features=768, bias=True)\n",
       "              (LayerNorm): LayerNorm((768,), eps=1e-05, elementwise_affine=True)\n",
       "              (dropout): Dropout(p=0.1, inplace=False)\n",
       "            )\n",
       "          )\n",
       "          (intermediate): RobertaIntermediate(\n",
       "            (dense): Linear(in_features=768, out_features=3072, bias=True)\n",
       "            (intermediate_act_fn): GELUActivation()\n",
       "          )\n",
       "          (output): RobertaOutput(\n",
       "            (dense): Linear(in_features=3072, out_features=768, bias=True)\n",
       "            (LayerNorm): LayerNorm((768,), eps=1e-05, elementwise_affine=True)\n",
       "            (dropout): Dropout(p=0.1, inplace=False)\n",
       "          )\n",
       "        )\n",
       "      )\n",
       "    )\n",
       "    (pooler): RobertaPooler(\n",
       "      (dense): Linear(in_features=768, out_features=768, bias=True)\n",
       "      (activation): Tanh()\n",
       "    )\n",
       "  )\n",
       "  (dropout): Dropout(p=0.3, inplace=False)\n",
       "  (linear): Linear(in_features=768, out_features=3, bias=True)\n",
       ")"
      ]
     },
     "execution_count": 67,
     "metadata": {},
     "output_type": "execute_result"
    }
   ],
   "source": [
    "model = SentimentClassifier(3)\n",
    "model.load_state_dict(torch.load('Model/train_3.bin'))\n",
    "model.to(device)"
   ]
  },
  {
   "cell_type": "code",
   "execution_count": 68,
   "metadata": {},
   "outputs": [],
   "source": [
    "def encode_predict(comment_test):\n",
    "    encoded_review = tokenizer.encode_plus(\n",
    "        comment_test,\n",
    "        max_length=MAX_LEN,\n",
    "        add_special_tokens=True,\n",
    "        return_token_type_ids=False,\n",
    "        pad_to_max_length=True,\n",
    "        return_attention_mask=True,\n",
    "        return_tensors='pt',\n",
    "    )\n",
    "    input_ids = encoded_review['input_ids'].to(device)\n",
    "    attention_mask = encoded_review['attention_mask'].to(device)\n",
    "\n",
    "    output = model(input_ids, attention_mask)\n",
    "    _, prediction = torch.max(output, dim=1)\n",
    "\n",
    "    # print(f'{comment_test}',':', f'{class_names[prediction]}')\n",
    "    \n",
    "    return class_names[prediction]\n"
   ]
  },
  {
   "cell_type": "code",
   "execution_count": 9,
   "metadata": {},
   "outputs": [
    {
     "data": {
      "text/html": [
       "<div>\n",
       "<style scoped>\n",
       "    .dataframe tbody tr th:only-of-type {\n",
       "        vertical-align: middle;\n",
       "    }\n",
       "\n",
       "    .dataframe tbody tr th {\n",
       "        vertical-align: top;\n",
       "    }\n",
       "\n",
       "    .dataframe thead th {\n",
       "        text-align: right;\n",
       "    }\n",
       "</style>\n",
       "<table border=\"1\" class=\"dataframe\">\n",
       "  <thead>\n",
       "    <tr style=\"text-align: right;\">\n",
       "      <th></th>\n",
       "      <th>user</th>\n",
       "      <th>Comment</th>\n",
       "      <th>comment_at</th>\n",
       "    </tr>\n",
       "  </thead>\n",
       "  <tbody>\n",
       "    <tr>\n",
       "      <th>160000</th>\n",
       "      <td>TUẤN NHUNG</td>\n",
       "      <td>quá cho folow</td>\n",
       "      <td>NaN</td>\n",
       "    </tr>\n",
       "    <tr>\n",
       "      <th>160001</th>\n",
       "      <td>Trần Thị Thúy</td>\n",
       "      <td>chưa chín dở</td>\n",
       "      <td>NaN</td>\n",
       "    </tr>\n",
       "    <tr>\n",
       "      <th>160002</th>\n",
       "      <td>hhadrenty</td>\n",
       "      <td>vãi lồn đói bụng</td>\n",
       "      <td>NaN</td>\n",
       "    </tr>\n",
       "    <tr>\n",
       "      <th>160003</th>\n",
       "      <td>Su HL 1199</td>\n",
       "      <td>this coment reminds everyone to drink water re...</td>\n",
       "      <td>NaN</td>\n",
       "    </tr>\n",
       "    <tr>\n",
       "      <th>160004</th>\n",
       "      <td>Nguyễn Hữu Đạt</td>\n",
       "      <td>ai vào nick vy mà ra được mai có người_yêu</td>\n",
       "      <td>NaN</td>\n",
       "    </tr>\n",
       "    <tr>\n",
       "      <th>...</th>\n",
       "      <td>...</td>\n",
       "      <td>...</td>\n",
       "      <td>...</td>\n",
       "    </tr>\n",
       "    <tr>\n",
       "      <th>160554</th>\n",
       "      <td>vecto là một đthang có hướng😇</td>\n",
       "      <td>e thích ăn_chay lắm mẹ em làm ngon lắm ý cj cj...</td>\n",
       "      <td>NaN</td>\n",
       "    </tr>\n",
       "    <tr>\n",
       "      <th>160555</th>\n",
       "      <td>Chồng đáng yêu của bé DaKi🦊</td>\n",
       "      <td>mình nghĩ thực_vật cũng góp_phần tạo nên bầu_k...</td>\n",
       "      <td>NaN</td>\n",
       "    </tr>\n",
       "    <tr>\n",
       "      <th>160556</th>\n",
       "      <td>N.Duy Đức</td>\n",
       "      <td>mình đã ăn_chay tháng công_nhận đa_dạng và ngon</td>\n",
       "      <td>NaN</td>\n",
       "    </tr>\n",
       "    <tr>\n",
       "      <th>160557</th>\n",
       "      <td>Cơ điện Vũ Thức</td>\n",
       "      <td>trông như thật</td>\n",
       "      <td>NaN</td>\n",
       "    </tr>\n",
       "    <tr>\n",
       "      <th>160558</th>\n",
       "      <td>Huỳnh Danh</td>\n",
       "      <td>đọc bình_luận mà thấy nhiều người toxic thiệt_...</td>\n",
       "      <td>NaN</td>\n",
       "    </tr>\n",
       "  </tbody>\n",
       "</table>\n",
       "<p>559 rows × 3 columns</p>\n",
       "</div>"
      ],
      "text/plain": [
       "                                 user  \\\n",
       "160000                     TUẤN NHUNG   \n",
       "160001                  Trần Thị Thúy   \n",
       "160002                      hhadrenty   \n",
       "160003                     Su HL 1199   \n",
       "160004                 Nguyễn Hữu Đạt   \n",
       "...                               ...   \n",
       "160554  vecto là một đthang có hướng😇   \n",
       "160555    Chồng đáng yêu của bé DaKi🦊   \n",
       "160556                      N.Duy Đức   \n",
       "160557                Cơ điện Vũ Thức   \n",
       "160558                     Huỳnh Danh   \n",
       "\n",
       "                                                  Comment comment_at  \n",
       "160000                                      quá cho folow        NaN  \n",
       "160001                                       chưa chín dở        NaN  \n",
       "160002                                   vãi lồn đói bụng        NaN  \n",
       "160003  this coment reminds everyone to drink water re...        NaN  \n",
       "160004         ai vào nick vy mà ra được mai có người_yêu        NaN  \n",
       "...                                                   ...        ...  \n",
       "160554  e thích ăn_chay lắm mẹ em làm ngon lắm ý cj cj...        NaN  \n",
       "160555  mình nghĩ thực_vật cũng góp_phần tạo nên bầu_k...        NaN  \n",
       "160556    mình đã ăn_chay tháng công_nhận đa_dạng và ngon        NaN  \n",
       "160557                                     trông như thật        NaN  \n",
       "160558  đọc bình_luận mà thấy nhiều người toxic thiệt_...        NaN  \n",
       "\n",
       "[559 rows x 3 columns]"
      ]
     },
     "execution_count": 9,
     "metadata": {},
     "output_type": "execute_result"
    }
   ],
   "source": [
    "# df=pd.read_csv('Data/Cleaned.csv')\n",
    "# data1=df[160000:]\n",
    "# data1"
   ]
  },
  {
   "cell_type": "code",
   "execution_count": 10,
   "metadata": {},
   "outputs": [
    {
     "name": "stderr",
     "output_type": "stream",
     "text": [
      "Truncation was not explicitly activated but `max_length` is provided a specific value, please use `truncation=True` to explicitly truncate examples to max length. Defaulting to 'longest_first' truncation strategy. If you encode pairs of sequences (GLUE-style) with the tokenizer you can select this strategy more precisely by providing a specific strategy to `truncation`.\n"
     ]
    }
   ],
   "source": [
    "# data1['Label'] = data1['Comment'].apply(encode_predict)"
   ]
  },
  {
   "cell_type": "code",
   "execution_count": 11,
   "metadata": {},
   "outputs": [
    {
     "data": {
      "text/html": [
       "<div>\n",
       "<style scoped>\n",
       "    .dataframe tbody tr th:only-of-type {\n",
       "        vertical-align: middle;\n",
       "    }\n",
       "\n",
       "    .dataframe tbody tr th {\n",
       "        vertical-align: top;\n",
       "    }\n",
       "\n",
       "    .dataframe thead th {\n",
       "        text-align: right;\n",
       "    }\n",
       "</style>\n",
       "<table border=\"1\" class=\"dataframe\">\n",
       "  <thead>\n",
       "    <tr style=\"text-align: right;\">\n",
       "      <th></th>\n",
       "      <th>user</th>\n",
       "      <th>Comment</th>\n",
       "      <th>comment_at</th>\n",
       "      <th>Label</th>\n",
       "    </tr>\n",
       "  </thead>\n",
       "  <tbody>\n",
       "    <tr>\n",
       "      <th>160000</th>\n",
       "      <td>TUẤN NHUNG</td>\n",
       "      <td>quá cho folow</td>\n",
       "      <td>NaN</td>\n",
       "      <td>neutral</td>\n",
       "    </tr>\n",
       "    <tr>\n",
       "      <th>160001</th>\n",
       "      <td>Trần Thị Thúy</td>\n",
       "      <td>chưa chín dở</td>\n",
       "      <td>NaN</td>\n",
       "      <td>negative</td>\n",
       "    </tr>\n",
       "    <tr>\n",
       "      <th>160002</th>\n",
       "      <td>hhadrenty</td>\n",
       "      <td>vãi lồn đói bụng</td>\n",
       "      <td>NaN</td>\n",
       "      <td>negative</td>\n",
       "    </tr>\n",
       "    <tr>\n",
       "      <th>160003</th>\n",
       "      <td>Su HL 1199</td>\n",
       "      <td>this coment reminds everyone to drink water re...</td>\n",
       "      <td>NaN</td>\n",
       "      <td>neutral</td>\n",
       "    </tr>\n",
       "    <tr>\n",
       "      <th>160004</th>\n",
       "      <td>Nguyễn Hữu Đạt</td>\n",
       "      <td>ai vào nick vy mà ra được mai có người_yêu</td>\n",
       "      <td>NaN</td>\n",
       "      <td>neutral</td>\n",
       "    </tr>\n",
       "    <tr>\n",
       "      <th>160005</th>\n",
       "      <td>Bùi Duyên</td>\n",
       "      <td>woa thấy anh kiếm được lá dong ở mĩ là đỉnh rồi</td>\n",
       "      <td>NaN</td>\n",
       "      <td>neutral</td>\n",
       "    </tr>\n",
       "    <tr>\n",
       "      <th>160006</th>\n",
       "      <td>Nguyễn Huy Hoàng</td>\n",
       "      <td>htps</td>\n",
       "      <td>NaN</td>\n",
       "      <td>neutral</td>\n",
       "    </tr>\n",
       "    <tr>\n",
       "      <th>160007</th>\n",
       "      <td>nói phét đấy!Tin đi-))))</td>\n",
       "      <td>như này phải</td>\n",
       "      <td>NaN</td>\n",
       "      <td>neutral</td>\n",
       "    </tr>\n",
       "    <tr>\n",
       "      <th>160008</th>\n",
       "      <td>Trung anh</td>\n",
       "      <td>nuốt nửa lít nước_bọt luôn ban</td>\n",
       "      <td>NaN</td>\n",
       "      <td>neutral</td>\n",
       "    </tr>\n",
       "    <tr>\n",
       "      <th>160009</th>\n",
       "      <td>💥 Thanh Tài ⚡️</td>\n",
       "      <td>mở miệng ra mà ông ăn thì bằng không</td>\n",
       "      <td>NaN</td>\n",
       "      <td>neutral</td>\n",
       "    </tr>\n",
       "  </tbody>\n",
       "</table>\n",
       "</div>"
      ],
      "text/plain": [
       "                            user  \\\n",
       "160000                TUẤN NHUNG   \n",
       "160001             Trần Thị Thúy   \n",
       "160002                 hhadrenty   \n",
       "160003                Su HL 1199   \n",
       "160004            Nguyễn Hữu Đạt   \n",
       "160005                 Bùi Duyên   \n",
       "160006          Nguyễn Huy Hoàng   \n",
       "160007  nói phét đấy!Tin đi-))))   \n",
       "160008                 Trung anh   \n",
       "160009            💥 Thanh Tài ⚡️   \n",
       "\n",
       "                                                  Comment comment_at     Label  \n",
       "160000                                      quá cho folow        NaN   neutral  \n",
       "160001                                       chưa chín dở        NaN  negative  \n",
       "160002                                   vãi lồn đói bụng        NaN  negative  \n",
       "160003  this coment reminds everyone to drink water re...        NaN   neutral  \n",
       "160004         ai vào nick vy mà ra được mai có người_yêu        NaN   neutral  \n",
       "160005    woa thấy anh kiếm được lá dong ở mĩ là đỉnh rồi        NaN   neutral  \n",
       "160006                                               htps        NaN   neutral  \n",
       "160007                                       như này phải        NaN   neutral  \n",
       "160008                     nuốt nửa lít nước_bọt luôn ban        NaN   neutral  \n",
       "160009               mở miệng ra mà ông ăn thì bằng không        NaN   neutral  "
      ]
     },
     "execution_count": 11,
     "metadata": {},
     "output_type": "execute_result"
    }
   ],
   "source": [
    "# data1.head(10)"
   ]
  },
  {
   "cell_type": "code",
   "execution_count": 12,
   "metadata": {},
   "outputs": [
    {
     "data": {
      "text/plain": [
       "<AxesSubplot: >"
      ]
     },
     "execution_count": 12,
     "metadata": {},
     "output_type": "execute_result"
    },
    {
     "data": {
      "image/png": "[encoded data removed]",
      "text/plain": [
       "<Figure size 432x288 with 1 Axes>"
      ]
     },
     "metadata": {
      "needs_background": "light"
     },
     "output_type": "display_data"
    }
   ],
   "source": [
    "# #vẽ biểu đồ với cột Label\n",
    "# data1['Label'].value_counts().plot(kind='bar')"
   ]
  },
  {
   "cell_type": "code",
   "execution_count": 13,
   "metadata": {},
   "outputs": [
    {
     "data": {
      "text/plain": [
       "neutral     313\n",
       "negative    143\n",
       "positive    103\n",
       "Name: Label, dtype: int64"
      ]
     },
     "execution_count": 13,
     "metadata": {},
     "output_type": "execute_result"
    }
   ],
   "source": [
    "# data1['Label'].value_counts()"
   ]
  },
  {
   "cell_type": "code",
   "execution_count": 69,
   "metadata": {},
   "outputs": [],
   "source": [
    "def encode_predict_(comment_test):\n",
    "    encoded_review = tokenizer.encode_plus(\n",
    "        comment_test,\n",
    "        max_length=MAX_LEN,\n",
    "        add_special_tokens=True,\n",
    "        return_token_type_ids=False,\n",
    "        pad_to_max_length=True,\n",
    "        return_attention_mask=True,\n",
    "        return_tensors='pt',\n",
    "    )\n",
    "    input_ids = encoded_review['input_ids'].to(device)\n",
    "    attention_mask = encoded_review['attention_mask'].to(device)\n",
    "\n",
    "    output = model(input_ids, attention_mask)\n",
    "    _, prediction = torch.max(output, dim=1)\n",
    "\n",
    "    # print(f'{comment_test}',':', f'{class_names[prediction]}')\n",
    "    \n",
    "    return prediction\n"
   ]
  },
  {
   "cell_type": "code",
   "execution_count": 93,
   "metadata": {},
   "outputs": [],
   "source": [
    "df_1=pd.read_csv('Data/1000.csv')\n",
    "df_1['Label'] = df_1['Label'].apply(lambda x: x+1)"
   ]
  },
  {
   "cell_type": "code",
   "execution_count": 94,
   "metadata": {},
   "outputs": [],
   "source": [
    "df_1=df_1.dropna()"
   ]
  },
  {
   "cell_type": "code",
   "execution_count": 95,
   "metadata": {},
   "outputs": [
    {
     "data": {
      "text/plain": [
       "<AxesSubplot: >"
      ]
     },
     "execution_count": 95,
     "metadata": {},
     "output_type": "execute_result"
    },
    {
     "data": {
      "image/png": "[encoded data removed]",
      "text/plain": [
       "<Figure size 432x288 with 1 Axes>"
      ]
     },
     "metadata": {
      "needs_background": "light"
     },
     "output_type": "display_data"
    }
   ],
   "source": [
    "df_1['Label'].value_counts().plot(kind='bar')"
   ]
  },
  {
   "cell_type": "code",
   "execution_count": 96,
   "metadata": {},
   "outputs": [],
   "source": [
    "df_1['Predict'] = df_1['Comment'].apply(encode_predict_).apply(lambda x: x.item() if hasattr(x, 'item') else x)\n"
   ]
  },
  {
   "cell_type": "code",
   "execution_count": 97,
   "metadata": {},
   "outputs": [
    {
     "name": "stdout",
     "output_type": "stream",
     "text": [
      "0.6934673366834171\n"
     ]
    }
   ],
   "source": [
    "count = 0\n",
    "sum = 0\n",
    "for i in range(len(df_1)):\n",
    "    try:\n",
    "        sum += 1\n",
    "        if df_1['Label'][i] == df_1['Predict'][i]:\n",
    "            count += 1\n",
    "    except:\n",
    "        pass\n",
    "accuracy = count/sum\n",
    "print(accuracy)\n"
   ]
  },
  {
   "cell_type": "code",
   "execution_count": 98,
   "metadata": {},
   "outputs": [
    {
     "data": {
      "text/html": [
       "<div>\n",
       "<style scoped>\n",
       "    .dataframe tbody tr th:only-of-type {\n",
       "        vertical-align: middle;\n",
       "    }\n",
       "\n",
       "    .dataframe tbody tr th {\n",
       "        vertical-align: top;\n",
       "    }\n",
       "\n",
       "    .dataframe thead th {\n",
       "        text-align: right;\n",
       "    }\n",
       "</style>\n",
       "<table border=\"1\" class=\"dataframe\">\n",
       "  <thead>\n",
       "    <tr style=\"text-align: right;\">\n",
       "      <th></th>\n",
       "      <th>user</th>\n",
       "      <th>Comment</th>\n",
       "      <th>Label</th>\n",
       "      <th>Predict</th>\n",
       "    </tr>\n",
       "  </thead>\n",
       "  <tbody>\n",
       "    <tr>\n",
       "      <th>0</th>\n",
       "      <td>Ínnn sắp gầy🥕</td>\n",
       "      <td>tam_mỹ nguyễn_toker nè</td>\n",
       "      <td>1</td>\n",
       "      <td>1</td>\n",
       "    </tr>\n",
       "    <tr>\n",
       "      <th>1</th>\n",
       "      <td>MingMing</td>\n",
       "      <td>địa_chỉ trung_hòa là bn vậy em</td>\n",
       "      <td>1</td>\n",
       "      <td>1</td>\n",
       "    </tr>\n",
       "    <tr>\n",
       "      <th>2</th>\n",
       "      <td>Hoa Hải đường</td>\n",
       "      <td>ở đâu vậy cả nhà</td>\n",
       "      <td>1</td>\n",
       "      <td>1</td>\n",
       "    </tr>\n",
       "    <tr>\n",
       "      <th>3</th>\n",
       "      <td>Vi Vu Cùng VeeA ✨</td>\n",
       "      <td>hcm có chỗ nào không ạ</td>\n",
       "      <td>1</td>\n",
       "      <td>1</td>\n",
       "    </tr>\n",
       "    <tr>\n",
       "      <th>4</th>\n",
       "      <td>Nhi Kẹo</td>\n",
       "      <td>linh ngon ghê</td>\n",
       "      <td>2</td>\n",
       "      <td>2</td>\n",
       "    </tr>\n",
       "    <tr>\n",
       "      <th>...</th>\n",
       "      <td>...</td>\n",
       "      <td>...</td>\n",
       "      <td>...</td>\n",
       "      <td>...</td>\n",
       "    </tr>\n",
       "    <tr>\n",
       "      <th>996</th>\n",
       "      <td>Thuỷ tiên🎀</td>\n",
       "      <td>team chỉ ăn đk gà ta gà thả</td>\n",
       "      <td>1</td>\n",
       "      <td>0</td>\n",
       "    </tr>\n",
       "    <tr>\n",
       "      <th>997</th>\n",
       "      <td>Lương Hoàng 🌷</td>\n",
       "      <td>đứa làm ở trại gà trắng nhìn thấy con gà này kiểu</td>\n",
       "      <td>1</td>\n",
       "      <td>1</td>\n",
       "    </tr>\n",
       "    <tr>\n",
       "      <th>998</th>\n",
       "      <td>Tùng đầu bạc</td>\n",
       "      <td>chắc_ăn ngon lắm</td>\n",
       "      <td>2</td>\n",
       "      <td>2</td>\n",
       "    </tr>\n",
       "    <tr>\n",
       "      <th>999</th>\n",
       "      <td>Minh Đức</td>\n",
       "      <td>gà công_nghiệp đâu ra con</td>\n",
       "      <td>1</td>\n",
       "      <td>1</td>\n",
       "    </tr>\n",
       "    <tr>\n",
       "      <th>1000</th>\n",
       "      <td>💩</td>\n",
       "      <td>trung của</td>\n",
       "      <td>1</td>\n",
       "      <td>1</td>\n",
       "    </tr>\n",
       "  </tbody>\n",
       "</table>\n",
       "<p>995 rows × 4 columns</p>\n",
       "</div>"
      ],
      "text/plain": [
       "                   user                                            Comment  \\\n",
       "0         Ínnn sắp gầy🥕                             tam_mỹ nguyễn_toker nè   \n",
       "1              MingMing                     địa_chỉ trung_hòa là bn vậy em   \n",
       "2         Hoa Hải đường                                   ở đâu vậy cả nhà   \n",
       "3     Vi Vu Cùng VeeA ✨                             hcm có chỗ nào không ạ   \n",
       "4               Nhi Kẹo                                      linh ngon ghê   \n",
       "...                 ...                                                ...   \n",
       "996          Thuỷ tiên🎀                        team chỉ ăn đk gà ta gà thả   \n",
       "997       Lương Hoàng 🌷  đứa làm ở trại gà trắng nhìn thấy con gà này kiểu   \n",
       "998        Tùng đầu bạc                                   chắc_ăn ngon lắm   \n",
       "999            Minh Đức                          gà công_nghiệp đâu ra con   \n",
       "1000                  💩                                          trung của   \n",
       "\n",
       "      Label  Predict  \n",
       "0         1        1  \n",
       "1         1        1  \n",
       "2         1        1  \n",
       "3         1        1  \n",
       "4         2        2  \n",
       "...     ...      ...  \n",
       "996       1        0  \n",
       "997       1        1  \n",
       "998       2        2  \n",
       "999       1        1  \n",
       "1000      1        1  \n",
       "\n",
       "[995 rows x 4 columns]"
      ]
     },
     "execution_count": 98,
     "metadata": {},
     "output_type": "execute_result"
    }
   ],
   "source": [
    "df_1"
   ]
  },
  {
   "cell_type": "code",
   "execution_count": 99,
   "metadata": {},
   "outputs": [
    {
     "data": {
      "image/png": "[encoded data removed]",
      "text/plain": [
       "<Figure size 432x288 with 1 Axes>"
      ]
     },
     "metadata": {
      "needs_background": "light"
     },
     "output_type": "display_data"
    }
   ],
   "source": [
    "\n",
    "label_counts = df_1['Label'].value_counts().sort_index()\n",
    "predict_counts = df_1['Predict'].value_counts().sort_index()\n",
    "\n",
    "width = 0.35\n",
    "fig, ax = plt.subplots()\n",
    "bar_label = ax.bar(label_counts.index - width/2, label_counts.values, width, label='Label by person')\n",
    "bar_predict = ax.bar(predict_counts.index + width/2, predict_counts.values, width, label='Predict by model')\n",
    "\n",
    "ax.set_xlabel('Values')\n",
    "ax.set_ylabel('Counts')\n",
    "ax.set_title('Comparison between Label and Predict')\n",
    "ax.set_xticks(range(len(label_counts.index)))\n",
    "ax.set_xticklabels(label_counts.index)\n",
    "ax.legend()\n",
    "plt.show()"
   ]
  },
  {
   "cell_type": "code",
   "execution_count": 100,
   "metadata": {},
   "outputs": [
    {
     "data": {
      "image/png": "[encoded data removed]",
      "text/plain": [
       "<Figure size 1008x576 with 2 Axes>"
      ]
     },
     "metadata": {},
     "output_type": "display_data"
    }
   ],
   "source": [
    "label_mapping = {0: 'Negative', 1: 'Neutral', 2: 'Positive'}\n",
    "df_1['Label'] = df_1['Label'].replace(label_mapping)\n",
    "df_1['Predict'] = df_1['Predict'].replace(label_mapping)\n",
    "\n",
    "# Đếm số lần xuất hiện của từng giá trị sau khi thay đổi nhãn\n",
    "label_counts = df_1['Label'].value_counts().sort_index()\n",
    "predict_counts = df_1['Predict'].value_counts().sort_index()\n",
    "plt.figure(figsize=(14, 8))\n",
    "# Tạo biểu đồ tròn cho 'label'\n",
    "plt.subplot(1, 2, 1)\n",
    "plt.pie(label_counts, labels=label_counts.index, autopct='%1.1f%%', startangle=90)\n",
    "plt.title('Label Distribution')\n",
    "\n",
    "# Tạo biểu đồ tròn cho 'predict'\n",
    "plt.subplot(1, 2, 2)\n",
    "plt.pie(predict_counts, labels=predict_counts.index, autopct='%1.1f%%', startangle=90)\n",
    "plt.title('Predict Distribution')\n",
    "\n",
    "# Hiển thị biểu đồ\n",
    "plt.show()"
   ]
  }
 ],
 "metadata": {
  "kernelspec": {
   "display_name": "Python 3",
   "language": "python",
   "name": "python3"
  },
  "language_info": {
   "codemirror_mode": {
    "name": "ipython",
    "version": 3
   },
   "file_extension": ".py",
   "mimetype": "text/x-python",
   "name": "python",
   "nbconvert_exporter": "python",
   "pygments_lexer": "ipython3",
   "version": "3.9.13"
  }
 },
 "nbformat": 4,
 "nbformat_minor": 2
}
